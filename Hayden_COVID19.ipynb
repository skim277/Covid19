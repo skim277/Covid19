{
  "nbformat": 4,
  "nbformat_minor": 0,
  "metadata": {
    "colab": {
      "name": "Hayden-COVID19.ipynb",
      "provenance": [],
      "collapsed_sections": [],
      "authorship_tag": "ABX9TyMyE7GPQl9B2gdFYXxhAbUB",
      "include_colab_link": true
    },
    "kernelspec": {
      "name": "python3",
      "display_name": "Python 3"
    }
  },
  "cells": [
    {
      "cell_type": "markdown",
      "metadata": {
        "id": "view-in-github",
        "colab_type": "text"
      },
      "source": [
        "<a href=\"https://colab.research.google.com/github/skim277/Covid19/blob/main/Hayden_COVID19.ipynb\" target=\"_parent\"><img src=\"https://colab.research.google.com/assets/colab-badge.svg\" alt=\"Open In Colab\"/></a>"
      ]
    },
    {
      "cell_type": "code",
      "metadata": {
        "colab": {
          "base_uri": "https://localhost:8080/",
          "height": 1000
        },
        "id": "N_Z3ljHti6Fw",
        "outputId": "de8f3a94-253b-455d-84ce-d0ec2f63700a"
      },
      "source": [
        "#importing libraies\n",
        "import random\n",
        "import matplotlib.pyplot as plt\n",
        "import time\n",
        "%matplotlib inline\n",
        "S = []\n",
        "I = []\n",
        "R = [] \n",
        "Icolated = []\n",
        "Hospitalizeda = []\n",
        "Ss = []  \n",
        "Is = []  \n",
        "Rs = []  \n",
        "So = []  \n",
        "Io = []  \n",
        "Ro = []  \n",
        "Sl = []  \n",
        "Il = []  \n",
        "Rl = []  \n",
        "Sq = []  \n",
        "Iq = []  \n",
        "Rq = []  \n",
        "St = []  \n",
        "It = []  \n",
        "Rt = []  \n",
        "class bcolors:\n",
        "    HEADER = '\\033[95m'\n",
        "    OKBLUE = '\\033[94m'\n",
        "    OKCYAN = '\\033[96m'\n",
        "    OKGREEN = '\\033[92m'\n",
        "    WARNING = '\\033[93m'\n",
        "    FAIL = '\\033[91m'\n",
        "    ENDC = '\\033[0m'\n",
        "    BOLD = '\\033[1m'\n",
        "    UNDERLINE = '\\033[4m'\n",
        "    GRAY = '\\033[97m'\n",
        "    YELLOW = '\\033[93m'\n",
        "print(f\"{bcolors.BOLD}LEGEND{bcolors.ENDC}\")\n",
        "print(f\"{bcolors.OKGREEN}Susceptible{bcolors.ENDC}\")\n",
        "print(f\"{bcolors.FAIL}Infected{bcolors.ENDC}\")\n",
        "print(f\"{bcolors.GRAY}Removed{bcolors.ENDC}\")\n",
        "print(f\"{bcolors.YELLOW}Asymtomatic{bcolors.ENDC}\")\n",
        "print(f\"{bcolors.UNDERLINE}                                                         {bcolors.ENDC}\")\n",
        "print(\"\")\n",
        "print(f\"{bcolors.OKCYAN}Red: stubborn{bcolors.ENDC}\")\n",
        "print(f\"{bcolors.OKCYAN}Blue: obedient{bcolors.ENDC}\")\n",
        "print(f\"{bcolors.OKCYAN}Yellow: loud{bcolors.ENDC}\")\n",
        "print(f\"{bcolors.OKCYAN}Purple: quiet{bcolors.ENDC}\")\n",
        "print(f\"{bcolors.OKCYAN}Pink: teen{bcolors.ENDC}\")\n",
        "inf = 0\n",
        "x = 0\n",
        "sus = 0\n",
        "inf = 0\n",
        "rem = 0\n",
        "Ssus = 0\n",
        "Sinf = 0\n",
        "Srem = 0\n",
        "Osus = 0\n",
        "Oinf = 0\n",
        "Orem = 0\n",
        "Lsus = 0\n",
        "Linf = 0\n",
        "Lrem = 0\n",
        "Qsus = 0\n",
        "Qinf = 0\n",
        "Qrem = 0\n",
        "Tsus = 0\n",
        "Tinf = 0\n",
        "Trem = 0\n",
        "#humand fuction definition : \n",
        "class human:\n",
        "    def __init__(self, status, color, location_x, location_y, daysin, inc, mask, homexcoor, homeycoor, asym, doctor, mdis, personality, movepat, party):\n",
        "        self.location_x = location_x\n",
        "        self.location_y = location_y\n",
        "        self.status = status\n",
        "        self.color = color\n",
        "        self.daysin = 0\n",
        "        self.inc = inc\n",
        "        self.mask = mask\n",
        "        self.homexcoor = homexcoor\n",
        "        self.homeycoor = homeycoor\n",
        "        self.asymm = asym\n",
        "        self.doctor = doctor\n",
        "        self.mdis = mdis\n",
        "        self.personality = personality\n",
        "        self.movepat = movepat\n",
        "        self.party = party\n",
        "people = []\n",
        "vaccine = \"false\"\n",
        "global inftotal\n",
        "global n\n",
        "inftotal = 0\n",
        "day = 0\n",
        "n = 250\n",
        "#ramdomize the people location using human function\n",
        "x = 0\n",
        "color = 'green'\n",
        "while x <= n:\n",
        "    x1 = random.randint(-300, 300)\n",
        "    y1 = random.randint(-300, 300)\n",
        "    homex = random.randint(-250, 250)\n",
        "    homey = random.randint(-250, 250)\n",
        "    asym = 0\n",
        "    doctor = random.randint(0,25)\n",
        "    if doctor == 25:\n",
        "        doctorcon = 'y'\n",
        "    else:\n",
        "        doctorcon = 'n'\n",
        "    #Chart:\n",
        "    #1: stuborn\n",
        "    #2: obedient\n",
        "    #3: loud, doesn't like mask\n",
        "    #4: quiet, but still doesn't wear mask very often\n",
        "    #5: teen, likes parties\n",
        "    #1 = move lots, likes to go to supermarket\n",
        "    #2 = stays at home and avoids people\n",
        "    #3 = goes out a lot\n",
        "    #4 = avoids people but move lots. doesn't wear masks\n",
        "    #5 = gathers with other teens and like to go the the supermarket in groups\n",
        "    rper = random.randint(1, 5)\n",
        "    if rper == 1:\n",
        "        personality = \"s\"\n",
        "        movep = \"1\"\n",
        "    if rper == 2:\n",
        "        personality = \"o\"\n",
        "        movep = \"2\"\n",
        "    if rper == 3:\n",
        "        personality = \"l\"\n",
        "        movep = \"3\"\n",
        "    if rper == 4:\n",
        "        personality = \"q\"\n",
        "        movep = \"4\"\n",
        "    if rper == 5:\n",
        "        personality = \"t\"\n",
        "        movep = \"5\"\n",
        "    if personality == 's':\n",
        "        color = 'red'\n",
        "    if personality == 'o':\n",
        "        color = 'blue'\n",
        "    if personality == 'l':\n",
        "        color = 'yellow'\n",
        "    if personality == 'q':\n",
        "        color = 'purple'\n",
        "    if personality == 't':\n",
        "        color = 'pink'\n",
        "        \n",
        "    people.append(human('s', color , x1, y1, 0, 0, 'n', homex, homey, 0, doctorcon, 0, personality, movep, 'n'))\n",
        "    if people[x].status == 's':\n",
        "        color = 'green'\n",
        "    elif people[x].status == 'i':\n",
        "        color = 'red'\n",
        "    else:\n",
        "        color = 'gray'\n",
        "    x = x + 1\n",
        "\n",
        "    \n",
        "x1 = random.randint(-300, 300)\n",
        "y1 = random.randint(-300, 300)\n",
        "personinput = input(\"What personality would you like the first infected agent to have?\")\n",
        "if personinput == 's':\n",
        "    people.append(human('i', 'red', 0, 0, 0, 0, 'n', homex, homey, 0, 'n', 0, 's', movep, 'n'))\n",
        "elif personinput == 'o':\n",
        "    people.append(human('i', 'red', 0, 0, 0, 0, 'n', homex, homey, 0, 'n', 0, 'o', movep, 'n'))\n",
        "elif personinput == 'l':\n",
        "    people.append(human('i', 'red', 0, 0, 0, 0, 'n', homex, homey, 0, 'n', 0, 'l', movep, 'n'))\n",
        "elif personinput == 'q':\n",
        "    people.append(human('i', 'red', 0, 0, 0, 0, 'n', homex, homey, 0, 'n', 0, 'q', movep, 'n'))\n",
        "elif personinput == 't':\n",
        "    people.append(human('i', 'red', 0, 0, 0, 0, 'n', homex, homey, 0, 'n', 0, 't', movep, 'n'))\n",
        "\n",
        "x = 0\n",
        "#EXTRA FEATURES~~~~~~~~~~~~~~~~~~~~~~~~~~~~~~~~~~~~~~~~~~~~~~~~~~~~~~~~~~~\n",
        "#adds maskes to people\n",
        "def mask():\n",
        "    global n\n",
        "    x = 0\n",
        "    #the lower the number, the higher chance. do not go below 1\n",
        "    while x <= n + 1:\n",
        "        #print(\"error\")\n",
        "        if people[x].doctor == 'y':\n",
        "            people[x].mask = 'y'\n",
        "        elif people[x].personality == 's':\n",
        "            rsc = random.randint(0,10)\n",
        "            if rsc == 4:\n",
        "                people[x].mask = 'y'\n",
        "            else:\n",
        "                people[x].mask = 'n'\n",
        "                \n",
        "        elif people[x].personality == 'o':\n",
        "            people[x].mask = 'y'\n",
        "                \n",
        "        elif people[x].personality == 'l':\n",
        "            rsc = random.randint(0,5)\n",
        "            if rsc == 4:\n",
        "                people[x].mask = 'y'\n",
        "            else:\n",
        "                people[x].mask = 'n'\n",
        "                \n",
        "        elif people[x].personality == 'q':\n",
        "            rsc = random.randint(0,5)\n",
        "            if rsc == 4:\n",
        "                people[x].mask = 'y'\n",
        "            else:\n",
        "                people[x].mask = 'n'\n",
        "                \n",
        "        elif people[x].personality == 't':\n",
        "            rsc = random.randint(0,25)\n",
        "            if rsc == 4:\n",
        "                people[x].mask = 'y'\n",
        "            else:\n",
        "                people[x].mask = 'n'\n",
        "                \n",
        "                \n",
        "        x = x + 1\n",
        "\n",
        "def icolation():\n",
        "    global n\n",
        "    x = 0\n",
        "    while x <= n:\n",
        "        if people[x].status == 'i'and people[x].inc <= 0 and people[x].asymm < 1 and people[x].location_x != -400:\n",
        "            randci = random.randint(0, 125)\n",
        "            if randci == 3:\n",
        "                people[x].location_x = 400\n",
        "                people[x].location_y = 400\n",
        "                people[x].mdis = 1\n",
        "        x = x + 1\n",
        "        \n",
        "closure = 'f'\n",
        "lenght = 'notdef'\n",
        "def check_closure():\n",
        "    global n, inf, rem, closure, lenght\n",
        "    if closure == 'f':\n",
        "        closec = random.randint(0,4)\n",
        "        if closec == 3:\n",
        "            if inf + rem >= n/5:\n",
        "                closure = 't'\n",
        "                print(f\"{bcolors.OKGREEN}CLOSURE{bcolors.ENDC}\")\n",
        "                lenght = 14\n",
        "    else:\n",
        "        if lenght <= 0:\n",
        "            closure = 'null'\n",
        "            print(f\"{bcolors.WARNING}CLOSURE DISBAN{bcolors.ENDC}\")\n",
        "        else:\n",
        "            lenght = lenght - 1\n",
        "        \n",
        "def move5():\n",
        "    global n, closure\n",
        "    if closure == 'null':\n",
        "        pass\n",
        "    else:\n",
        "        check_closure()\n",
        "    hosbedlim = 25\n",
        "    x = 0\n",
        "    x5 = 0\n",
        "    while x5 <= n + 1:\n",
        "        people[x5].party = 'n'\n",
        "        x5 = x5 + 1\n",
        "    x5 = 0\n",
        "    while x5 <= n + 1:\n",
        "        if people[x5].personality == 't':\n",
        "            pchance = random.randint(0,3)\n",
        "            if pchance == 2:\n",
        "                people[x5].party = 'y'\n",
        "                print(\"Party to\", x5)\n",
        "                x5 = n + 10\n",
        "            else:\n",
        "                x5 = x5 + 1\n",
        "        else:\n",
        "            x5 = x5 + 1\n",
        "    x5 = 0\n",
        "\n",
        "    while x <= n + 1:\n",
        "        if people[x].mdis == 1:\n",
        "            x = x + 1\n",
        "            continue\n",
        "        skip = random.randint(0, 3)\n",
        "        if skip == 2 or skip == 3:\n",
        "            #print(\"DIDN'T SKIP\")\n",
        "            if people[x].movepat == \"1\":\n",
        "                #print(\"moving 1\")\n",
        "                mc1 = random.randint(0,12)\n",
        "                if mc1 == 0 or mc1 == 1 or mc1 == 2:\n",
        "                    #print(\"mini gathering\")\n",
        "                    mp1 = random.randint(0, n + 1)\n",
        "                    people[x].location_x = people[mp1].location_x\n",
        "                    people[x].location_y = people[mp1].location_y\n",
        "                elif mc1 == 3 or mc1 == 4 or mc1 == 5 or mc1 == 6:\n",
        "                    mx1 = random.randint(-10,10)\n",
        "                    my1 = random.randint(-10,10)\n",
        "                    people[x].location_x = people[x].location_x + mx1\n",
        "                    people[x].location_y = people[x].location_y + my1\n",
        "                    #print(\"moved to\", people[x].location_x, people[x].location_y)\n",
        "\n",
        "                else:\n",
        "                    people[x].location_x = 0\n",
        "                    people[x].location_y = 0\n",
        "                    #print(\"gone\")\n",
        "\n",
        "            elif people[x].movepat == \"2\":\n",
        "                #print(\"moving 2\")\n",
        "                mx2 = random.randint(-10,10)\n",
        "                my2 = random.randint(-10,10)\n",
        "                people[x].location_x = people[x].location_x + mx2\n",
        "                people[x].location_x = people[x].location_x + my2\n",
        "                #print(\"moved to\", people[x].location_x, people[x].location_y)\n",
        "\n",
        "\n",
        "            elif people[x].movepat == '3':\n",
        "                #print(\"moving 3\")\n",
        "                mc3 = random.randint(0,10)\n",
        "                if mc3 == 1 or mc3 == 0 or mc3 == 2 or mc3 == 3 or mc3 == 4:\n",
        "                    people[x].location_x = 0\n",
        "                    people[x].location_y = 0\n",
        "                    #print(\"gone\")\n",
        "\n",
        "                else:\n",
        "                    mx3 = random.randint(-30,30)\n",
        "                    my3 = random.randint(-30,30)\n",
        "                    people[x].location_x = people[x].location_x + mx3\n",
        "                    people[x].location_y = people[x].location_y + my3\n",
        "                    \n",
        "            elif people[x].movepat == '4':\n",
        "                #print(\"moving 4\")\n",
        "                mc4 = random.randint(0,1)\n",
        "                if mc4 == 0:\n",
        "                    people[x].location_x = people[x].homexcoor\n",
        "                    people[x].location_y = people[x].homeycoor\n",
        "                else:\n",
        "                    mx4 = random.randint(-50,50)\n",
        "                    my4 = random.randint(-50,50)\n",
        "                    people[x].location_x = people[x].location_x + mx4\n",
        "                    people[x].location_y = people[x].location_y + my4\n",
        "                    \n",
        "            elif people[x].movepat == '5':\n",
        "                #print(\"moving 5\")\n",
        "                mc5 = random.randint(0,8)\n",
        "                if mc5 == 1 or mc5 == 2 or mc5 == 3 or mc5 == 4 or mc5 == 5:\n",
        "                    x4 = 0\n",
        "                    while x4 <= n + 1:\n",
        "                        if people[x4].party == 'y':\n",
        "                            people[x].location_x = people[x4].location_x\n",
        "                            people[x].location_y = people[x4].location_y\n",
        "                            #print(\"moved to party\", people[x].location_x, people[x].location_y)\n",
        "                            x4 = n + 10\n",
        "                        else:\n",
        "                            x4 = x4 + 1\n",
        "                else:\n",
        "                    people[x].location_x = 0\n",
        "                    people[x].location_y = 0\n",
        "                    #print(\"gone\")\n",
        "\n",
        "                    \n",
        "        else:\n",
        "            #print(\"SKIPPED\")\n",
        "            if people[x].status == 'i' and people[x].asymm == 0 and people[x].inc <= 0 and x != 251 and people[x].location_x != 400:\n",
        "                hospc = random.randint(0,10)\n",
        "                x1 = 0\n",
        "                global hos\n",
        "                hos = 0\n",
        "                while x1 < n+1:\n",
        "                    if people[x1].location_y == -400:\n",
        "                        hos = hos + 1\n",
        "                    x1 = x1 + 1\n",
        "                hospc = 3\n",
        "                if hospc == 3:\n",
        "                    if hos >= hosbedlim:\n",
        "                        x = x + 1\n",
        "                        continue\n",
        "                    else:\n",
        "                        #print(\"hospital\")\n",
        "                        people[x].location_x = -400\n",
        "                        people[x].location_y = -400\n",
        "                        people[x].mdis = 1\n",
        "                c10 = random.randint(0,7)\n",
        "                if c10 == 2:\n",
        "                    people[x].location_x = 0\n",
        "                    people[x].location_y = 0\n",
        "                    #print(\"moved to\", people[x].location_x, people[x].location_y)\n",
        "            else:\n",
        "                mx10 = random.randint(-30,30)\n",
        "                my10 = random.randint(-30,30)\n",
        "                people[x].location_x = people[x].location_x + mx10\n",
        "                people[x].location_y = people[x].location_y + my10\n",
        "\n",
        "\n",
        "            check_b()\n",
        "#                 if vaccine == \"true\":\n",
        "#                     randomcure = random.randint(0, 3)\n",
        "#                     if randomcure == 2:\n",
        "#                         people[x].status = \"r\"\n",
        "\n",
        "\n",
        "        x = x + 1\n",
        "\n",
        "def vaccine():\n",
        "    pass\n",
        "\n",
        "#RUNNING EXTRA FEATURES:\n",
        "#mask()\n",
        "#MAIN function def.**********************************************************************************************\n",
        "#this funtion checks the people bondaries\n",
        "def check_b():\n",
        "    global n\n",
        "    x = 0\n",
        "    while x <= n + 1:\n",
        "        if people[x].location_x == -400 or people[x].location_x == 400:\n",
        "            x = x + 1\n",
        "            continue\n",
        "        if people[x].location_x <= -301:\n",
        "            people[x].location_x = 250\n",
        "        if people[x].location_x >= 301:\n",
        "            people[x].location_x = -250\n",
        "        if people[x].location_y <= -301:\n",
        "            people[x].location_y = 250\n",
        "        if people[x].location_y >= 301:\n",
        "            people[x].location_y = -250\n",
        "        x = x + 1\n",
        "#checks the spread of the disease and spreads it\n",
        "def check_s():\n",
        "    global n\n",
        "    x = 0\n",
        "    y = 0\n",
        "    r = 50\n",
        "    while x <= n + 1:\n",
        "        global inftotal\n",
        "        if people[x].status == 'i':\n",
        "            y = 0\n",
        "            while y <= n + 1:\n",
        "                #print(\"error\")\n",
        "                if people[x].inc > 0:\n",
        "                    #print(\"broke from\", x, \"had\", people[x].inc, \"inc\")\n",
        "                    break\n",
        "                if people[y].status == 'i' or people[y].status == 'r' or people[y].asymm ==1:\n",
        "                    #print(\"infected... passing\")\n",
        "                    y = y + 1\n",
        "                    continue\n",
        "                else:\n",
        "                    if people[y].location_x < r + people[x].location_x and people[y].location_x > -r + people[x].location_x and people[y].location_y < r + people[x].location_y and people[y].location_y > -r + people[x].location_y:\n",
        "                        if people[y].movepat == '2':\n",
        "                            ic = random.randint(0,25)\n",
        "                        elif people[y].mask == 'n':\n",
        "                            ic = random.randint(0,5)\n",
        "                        elif people[y].mask == 'y':\n",
        "                            if people[y].doctor == 'y':\n",
        "                                ic = random.randint(0,50)\n",
        "                            else:\n",
        "                                ic = random.randint(0,25)\n",
        "                        #print(ic)\n",
        "                        #ic = 3\n",
        "                        if ic == 3:\n",
        "                            people[y].status = 'i'\n",
        "                            inftotal = inftotal + 1\n",
        "                            people[y].inc = 5\n",
        "                            asymc = random.randint(0, 10)\n",
        "                            if asymc == 5:\n",
        "                                people[y].asymm = 1\n",
        "                            #print(\"checked\", y, \"infected from\", x)\n",
        "                            y = y + 1\n",
        "\n",
        "                        else:\n",
        "                            #print(\"checked\", y, \"not infected from\", x)\n",
        "                            y = y + 1\n",
        "\n",
        "                    else:\n",
        "                        #print(\"passed\", y, \"from\", x)\n",
        "                        y = y + 1\n",
        "            \n",
        "\n",
        "\n",
        "        else:\n",
        "            pass\n",
        "        x = x + 1\n",
        "        #comment line below out if not want icolation\n",
        "        icolation()\n",
        "        #print(x, y)\n",
        "\n",
        "#MAIN function def.**********************************************************************************************\n",
        "#allows people to move around\n",
        "#plotting initial version: the untouched version\n",
        "print(\"Day-zero\")\n",
        "plt.figure(figsize=(7,7))\n",
        "x = 0\n",
        "while x <= n + 1:\n",
        "    plt.scatter(people[x].location_x, people[x].location_y, color = people[x].color)\n",
        "    plt.xlim(-410,410)\n",
        "    plt.ylim(-410,410)\n",
        "    x = x + 1\n",
        "x = 0\n",
        "plt.show()\n",
        "plt.savefig('Day-0.png')\n",
        "check_s()\n",
        "\n",
        "global hos\n",
        "num = 1000000 #maximum days simulation can progress to\n",
        "num2 = 0 #current number of days simulated\n",
        "day = 1\n",
        "#scatter plotting\n",
        "while num2 < num:\n",
        "    x = 0\n",
        "    while x <= n + 1:\n",
        "        if people[x].status == 'r':\n",
        "            people[x].mdis = 0\n",
        "        x = x + 1\n",
        "    global hos\n",
        "    x = 0\n",
        "    #incubation period calculation\n",
        "    while x <= n + 1:\n",
        "        people[x].inc = people[x].inc -1\n",
        "        x = x + 1\n",
        "#move here\n",
        "    move5()\n",
        "    check_s()\n",
        "    x = 0\n",
        "    #calculate the days infected\n",
        "    while x <= n + 1:\n",
        "        if people[x].status == 'i':\n",
        "            people[x].daysin = people[x].daysin + 1\n",
        "        else:\n",
        "            pass\n",
        "        x = x + 1\n",
        "    x = 0\n",
        "    #removing infected people\n",
        "    while x <= n + 1:\n",
        "        if people[x].daysin == 14:\n",
        "            people[x].status = 'r'\n",
        "        else:\n",
        "            pass\n",
        "        x = x + 1\n",
        "    #color change\n",
        "    x = 0\n",
        "    while x <= n + 1:\n",
        "        if people[x].status == 's':\n",
        "            people[x].color = 'green'\n",
        "        elif people[x].status == 'i' and people[x].asymm == 1:\n",
        "            #print(\"error\")\n",
        "            people[x].color = 'yellow'\n",
        "        elif people[x].status == 'i':\n",
        "            people[x].color = \"red\"\n",
        "        else:\n",
        "            people[x].color = 'gray'\n",
        "        x = x + 1\n",
        "    #color change mod\n",
        "#     x = 0\n",
        "#     while x <= n + 1:\n",
        "#         if people[x].personality == 's':\n",
        "#             people[x].color = 'red'\n",
        "#         if people[x].personality == 'o':\n",
        "#             people[x].color = 'blue'\n",
        "#         if people[x].personality == 'l':\n",
        "#             people[x].color = 'yellow'\n",
        "#         if people[x].personality == 'q':\n",
        "#             people[x].color = 'purple'\n",
        "#         if people[x].personality == 't':\n",
        "#             people[x].color = 'pink'\n",
        "#         x = x + 1\n",
        "    #count\n",
        "    x = 0\n",
        "    sus = 0\n",
        "    inf = 0\n",
        "    rem = 0\n",
        "    Ssus = 0\n",
        "    Sinf = 0\n",
        "    Srem = 0\n",
        "    Osus = 0\n",
        "    Oinf = 0\n",
        "    Orem = 0\n",
        "    Lsus = 0\n",
        "    Linf = 0\n",
        "    Lrem = 0\n",
        "    Qsus = 0\n",
        "    Qinf = 0\n",
        "    Qrem = 0\n",
        "    Tsus = 0\n",
        "    Tinf = 0\n",
        "    Trem = 0\n",
        "    while x <= n+1:\n",
        "        if people[x].status == 's':\n",
        "            sus = sus + 1\n",
        "        elif people[x].status == 'i':\n",
        "            inf = inf + 1\n",
        "        else:\n",
        "            rem = rem + 1\n",
        "        x = x + 1\n",
        "    x = 0\n",
        "    #count Stubborn\n",
        "    while x <= n + 1:\n",
        "        if people[x].personality == 's':\n",
        "            if people[x].status == 's':\n",
        "                Ssus = Ssus + 1\n",
        "            elif people[x].status == 'i':\n",
        "                Sinf = Sinf + 1\n",
        "            else:\n",
        "                Srem = Srem + 1\n",
        "            x = x + 1\n",
        "        else:\n",
        "            x = x + 1\n",
        "    x = 0\n",
        "    #count Obeidient\n",
        "    while x <= n + 1:\n",
        "        if people[x].personality == 'o':\n",
        "            if people[x].status == 's':\n",
        "                Osus = Osus + 1\n",
        "            elif people[x].status == 'i':\n",
        "                Oinf = Oinf + 1\n",
        "            else:\n",
        "                Orem = Orem + 1\n",
        "            x = x + 1\n",
        "        else:\n",
        "            x = x + 1\n",
        "            \n",
        "    x = 0\n",
        "    #count Loud\n",
        "    while x <= n + 1:\n",
        "        if people[x].personality == 'l':\n",
        "            if people[x].status == 's':\n",
        "                Lsus = Lsus + 1\n",
        "            elif people[x].status == 'i':\n",
        "                Linf = Linf + 1\n",
        "            else:\n",
        "                Lrem = Lrem + 1\n",
        "            x = x + 1\n",
        "        else:\n",
        "            x = x + 1\n",
        "    \n",
        "    x = 0\n",
        "    #count Quiet\n",
        "    while x <= n + 1:\n",
        "        if people[x].personality == 'q':\n",
        "            if people[x].status == 's':\n",
        "                Qsus = Qsus + 1\n",
        "            elif people[x].status == 'i':\n",
        "                Qinf = Qinf + 1\n",
        "            else:\n",
        "                Qrem = Qrem + 1\n",
        "            x = x + 1\n",
        "        else:\n",
        "            x = x + 1\n",
        "            \n",
        "    x = 0\n",
        "    #count Teen\n",
        "    while x <= n + 1:\n",
        "        if people[x].personality == 't':\n",
        "            if people[x].status == 's':\n",
        "                Tsus = Tsus + 1\n",
        "            elif people[x].status == 'i':\n",
        "                Tinf = Tinf + 1\n",
        "            else:\n",
        "                Trem = Trem + 1\n",
        "            x = x + 1\n",
        "        else:\n",
        "            x = x + 1\n",
        "    x = 0\n",
        "    ico = 0\n",
        "    while x < n+1:\n",
        "        if people[x].location_x == 400:\n",
        "            ico = ico + 1\n",
        "        x = x + 1\n",
        "    x = 0\n",
        "    hoscount = 0\n",
        "    while x < n + 1:\n",
        "        #print(people[x].location_y)\n",
        "        if people[x].location_y == -400:\n",
        "            hoscount = hoscount + 1\n",
        "        x = x + 1\n",
        "    print(\"Day\", day, f\">>> {bcolors.OKGREEN}Susceptible{bcolors.ENDC}:\", sus, f\"| {bcolors.WARNING}Infected{bcolors.ENDC}:\", inf, f\"| {bcolors.GRAY}Removed{bcolors.ENDC}:\", rem, f\"| {bcolors.YELLOW}isolated{bcolors.ENDC}:\", ico, f\"| {bcolors.OKCYAN}Hospitalized{bcolors.ENDC}:\", hoscount)\n",
        "    S.append(sus)\n",
        "    I.append(inf)\n",
        "    R.append(rem) \n",
        "    Icolated.append(ico)\n",
        "    Hospitalizeda.append(hoscount)\n",
        "    Ss.append(Ssus)\n",
        "    Is.append(Sinf)\n",
        "    Rs.append(Srem)\n",
        "    So.append(Osus)\n",
        "    Io.append(Oinf)\n",
        "    Ro.append(Orem)\n",
        "    Sl.append(Lsus)\n",
        "    Il.append(Linf)\n",
        "    Rl.append(Lrem)\n",
        "    Sq.append(Qsus)\n",
        "    Iq.append(Qinf)\n",
        "    Rq.append(Qrem)\n",
        "    St.append(Tsus)\n",
        "    It.append(Tinf)\n",
        "    Rt.append(Trem)\n",
        "    #print(\"check 2\", people[x7].color)\n",
        "#     print(S)\n",
        "#     print(I)0-0\n",
        "#     print(R)\n",
        "#     print(Ss)\n",
        "#     print(Is)\n",
        "#     print(Rs)\n",
        "#     print(So)\n",
        "#     print(Io)\n",
        "#     print(Ro)\n",
        "#     print(Sl)\n",
        "#     print(Il)\n",
        "#     print(Rl)\n",
        "#     print(Sq)\n",
        "#     print(Iq)\n",
        "#     print(Rq)\n",
        "#     print(St)\n",
        "#     print(It)\n",
        "#     print(Rt)\n",
        "    x = 0\n",
        "#     plt.figure(figsize=(7,7))\n",
        "#     while x <= n + 1:\n",
        "#         plt.title('Day' + str(day))\n",
        "#         plt.scatter(people[x].location_x, people[x].location_y, color = people[x].color, label = day)\n",
        "#         plt.xlim(-425,425)\n",
        "#         plt.ylim(-425,425)\n",
        "#         x = x + 1\n",
        "    x = 0\n",
        "    plt.savefig('Day-'+ str(day) + '.png')\n",
        "    plt.show()\n",
        "    day = day + 1\n",
        "    num2 = num2 + 1\n",
        "    if inf == 0:\n",
        "        break\n",
        "    if vaccine == \"false\":\n",
        "        if inftotal >= n/2:\n",
        "            print(f\"{bcolors.OKBLUE}Vaccine being used{bcolors.ENDC}\")\n",
        "            vaccine = \"true\"\n",
        "\n",
        "ylim1=260\n",
        "ylim2=70\n",
        "# Plot Total trend\n",
        "fig = plt.figure(facecolor='w')\n",
        "fig.set_figheight(25)\n",
        "fig.set_figwidth(18)\n",
        "\n",
        "ax1 = fig.add_subplot(421, facecolor='#dddddd', axisbelow=True)\n",
        "ax2 = fig.add_subplot(422, facecolor='#dddddd', axisbelow=True)\n",
        "ax3 = fig.add_subplot(423, facecolor='#dddddd', axisbelow=True)\n",
        "ax4 = fig.add_subplot(424, facecolor='#dddddd', axisbelow=True)\n",
        "ax5 = fig.add_subplot(425, facecolor='#dddddd', axisbelow=True)\n",
        "ax6 = fig.add_subplot(426, facecolor='#dddddd', axisbelow=True)\n",
        "ax7 = fig.add_subplot(427, facecolor='#dddddd', axisbelow=True)\n",
        "\n",
        "#Totoal-SIR\n",
        "ax1.plot(S, 'g', alpha=1, lw=2, label='Susceptible')\n",
        "ax1.plot(I, 'r', alpha=1, lw=2, label='Infected')\n",
        "ax1.plot(R, 'grey', alpha=1, lw=2, label='Recovered with immunity')\n",
        "ax1.set_title('Whole community (Pop=252) Case with SIR')\n",
        "ax1.set_xlabel('Time/days')\n",
        "ax1.set_ylabel('Population')\n",
        "ax1.set_ylim(0,ylim1)\n",
        "ax1.yaxis.set_tick_params(length=5)\n",
        "ax1.xaxis.set_tick_params(length=5)\n",
        "ax1.grid(b=True, which='major', c='w', lw=2, ls='-')\n",
        "ax1.legend()\n",
        "\n",
        "\n",
        "#Total-SIRIH\n",
        "ax2.plot(S, 'g', alpha=1, lw=2, label='Susceptible')\n",
        "ax2.plot(I, 'r', alpha=1, lw=2, label='Infected')\n",
        "ax2.plot(R, 'grey', alpha=1, lw=2, label='Recovered with immunity')\n",
        "ax2.plot(Icolated, 'c--', alpha=1, lw=2, label='Isolated among the infected')\n",
        "ax2.plot(Hospitalizeda, 'm--', alpha=1, lw=2, label='Hospitalized')\n",
        "ax2.set_title('Whole community Case with SIR+Isolation+Hospitalized')\n",
        "ax2.set_xlabel('Time/days')\n",
        "ax2.set_ylabel('Population')\n",
        "ax2.set_ylim(0,ylim1)\n",
        "ax2.yaxis.set_tick_params(length=5)\n",
        "ax2.xaxis.set_tick_params(length=5)\n",
        "ax2.grid(b=True, which='major', c='w', lw=2, ls='-')\n",
        "ax2.legend()\n",
        "\n",
        "#Stuborn\n",
        "ax3.plot(Ss, 'g', alpha=1, lw=2, label='Susceptible Stuborn')\n",
        "ax3.plot(Is, 'r', alpha=1, lw=2, label='Infected Stuborn')\n",
        "ax3.plot(Rs, 'grey', alpha=1, lw=2, label='Recovered Stubborn')\n",
        "ax3.set_title('Stubborn people Case with SIR')\n",
        "ax3.set_xlabel('Time /days')\n",
        "ax3.set_ylabel('Population of Stuborn')\n",
        "ax3.set_ylim(0,ylim2)\n",
        "ax3.yaxis.set_tick_params(length=5)\n",
        "ax3.xaxis.set_tick_params(length=5)\n",
        "ax3.grid(b=True, which='major', c='w', lw=2, ls='-')\n",
        "ax3.legend()\n",
        "\n",
        "#Obedient\n",
        "ax4.plot(So, 'g', alpha=1, lw=2, label='Susceptible Obedient')\n",
        "ax4.plot(Io, 'r', alpha=1, lw=2, label='Infected Obedient')\n",
        "ax4.plot(Ro, 'grey', alpha=1, lw=2, label='Recovered Obedient')\n",
        "ax4.set_title('Obedient people Case with SIR')\n",
        "ax4.set_xlabel('Time /days')\n",
        "ax4.set_ylabel('Population of Obedient')\n",
        "ax4.set_ylim(0,ylim2)\n",
        "ax4.yaxis.set_tick_params(length=5)\n",
        "ax4.xaxis.set_tick_params(length=5)\n",
        "ax4.grid(b=True, which='major', c='w', lw=2, ls='-')\n",
        "ax4.legend()\n",
        "\n",
        "#Loud\n",
        "ax5.plot(Sl, 'g', alpha=1, lw=2, label='Susceptible Loud')\n",
        "ax5.plot(Il, 'r', alpha=1, lw=2, label='Infected Loud')\n",
        "ax5.plot(Rl, 'grey', alpha=1, lw=2, label='Recovered Loud')\n",
        "ax5.set_title('Loud people Case with SIR')\n",
        "ax5.set_xlabel('Time /days')\n",
        "ax5.set_ylabel('Population of Loud')\n",
        "ax5.set_ylim(0,ylim2)\n",
        "ax5.yaxis.set_tick_params(length=5)\n",
        "ax5.xaxis.set_tick_params(length=5)\n",
        "ax5.grid(b=True, which='major', c='w', lw=2, ls='-')\n",
        "ax5.legend()\n",
        "\n",
        "#Queit\n",
        "ax6.plot(Sq, 'g', alpha=1, lw=2, label='Susceptible Queit')\n",
        "ax6.plot(Iq, 'r', alpha=1, lw=2, label='Infected Queit')\n",
        "ax6.plot(Rq, 'grey', alpha=1, lw=2, label='Recovered Queit')\n",
        "ax6.set_title('Queit people Case with SIR')\n",
        "ax6.set_xlabel('Time /days')\n",
        "ax6.set_ylabel('Population of Queit')\n",
        "ax6.set_ylim(0,ylim2)\n",
        "ax6.yaxis.set_tick_params(length=5)\n",
        "ax6.xaxis.set_tick_params(length=5)\n",
        "ax6.grid(b=True, which='major', c='w', lw=2, ls='-')\n",
        "ax6.legend()\n",
        "\n",
        "#Teenagers\n",
        "ax7.plot(St, 'g', alpha=1, lw=2, label='Susceptible Teens')\n",
        "ax7.plot(It, 'r', alpha=1, lw=2, label='Infected Teens')\n",
        "ax7.plot(Rt, 'grey', alpha=1, lw=2, label='Recovered Teens')\n",
        "ax7.set_title('Teenagers Case with SIR')\n",
        "ax7.set_xlabel('Time /days')\n",
        "ax7.set_ylabel('Population of Teens')\n",
        "ax7.set_ylim(0,ylim2)\n",
        "ax7.yaxis.set_tick_params(length=5)\n",
        "ax7.xaxis.set_tick_params(length=5)\n",
        "ax7.grid(b=True, which='major', c='w', lw=2, ls='-')\n",
        "ax7.legend()\n",
        "\n",
        "plt.savefig('Single-plot.png')\n",
        "plt.show()"
      ],
      "execution_count": 2,
      "outputs": [
        {
          "output_type": "stream",
          "text": [
            "\u001b[1mLEGEND\u001b[0m\n",
            "\u001b[92mSusceptible\u001b[0m\n",
            "\u001b[91mInfected\u001b[0m\n",
            "\u001b[97mRemoved\u001b[0m\n",
            "\u001b[93mAsymtomatic\u001b[0m\n",
            "\u001b[4m                                                         \u001b[0m\n",
            "\n",
            "\u001b[96mRed: stubborn\u001b[0m\n",
            "\u001b[96mBlue: obedient\u001b[0m\n",
            "\u001b[96mYellow: loud\u001b[0m\n",
            "\u001b[96mPurple: quiet\u001b[0m\n",
            "\u001b[96mPink: teen\u001b[0m\n",
            "What personality would you like the first infected agent to have?s\n",
            "Day-zero\n"
          ],
          "name": "stdout"
        },
        {
          "output_type": "display_data",
          "data": {
            "image/png": "[encoded data removed]",
            "text/plain": [
              "<Figure size 504x504 with 1 Axes>"
            ]
          },
          "metadata": {
            "tags": [],
            "needs_background": "light"
          }
        },
        {
          "output_type": "stream",
          "text": [
            "Party to 9\n",
            "Day 1 >>> \u001b[92mSusceptible\u001b[0m: 240 | \u001b[93mInfected\u001b[0m: 12 | \u001b[97mRemoved\u001b[0m: 0 | \u001b[93misolated\u001b[0m: 0 | \u001b[96mHospitalized\u001b[0m: 0\n"
          ],
          "name": "stdout"
        },
        {
          "output_type": "display_data",
          "data": {
            "text/plain": [
              "<Figure size 432x288 with 0 Axes>"
            ]
          },
          "metadata": {
            "tags": []
          }
        },
        {
          "output_type": "stream",
          "text": [
            "Party to 58\n",
            "Day 2 >>> \u001b[92mSusceptible\u001b[0m: 238 | \u001b[93mInfected\u001b[0m: 14 | \u001b[97mRemoved\u001b[0m: 0 | \u001b[93misolated\u001b[0m: 0 | \u001b[96mHospitalized\u001b[0m: 0\n"
          ],
          "name": "stdout"
        },
        {
          "output_type": "display_data",
          "data": {
            "text/plain": [
              "<Figure size 432x288 with 0 Axes>"
            ]
          },
          "metadata": {
            "tags": []
          }
        },
        {
          "output_type": "stream",
          "text": [
            "Party to 9\n",
            "Day 3 >>> \u001b[92mSusceptible\u001b[0m: 237 | \u001b[93mInfected\u001b[0m: 15 | \u001b[97mRemoved\u001b[0m: 0 | \u001b[93misolated\u001b[0m: 0 | \u001b[96mHospitalized\u001b[0m: 0\n"
          ],
          "name": "stdout"
        },
        {
          "output_type": "display_data",
          "data": {
            "text/plain": [
              "<Figure size 432x288 with 0 Axes>"
            ]
          },
          "metadata": {
            "tags": []
          }
        },
        {
          "output_type": "stream",
          "text": [
            "Party to 38\n",
            "Day 4 >>> \u001b[92mSusceptible\u001b[0m: 216 | \u001b[93mInfected\u001b[0m: 36 | \u001b[97mRemoved\u001b[0m: 0 | \u001b[93misolated\u001b[0m: 0 | \u001b[96mHospitalized\u001b[0m: 0\n"
          ],
          "name": "stdout"
        },
        {
          "output_type": "display_data",
          "data": {
            "text/plain": [
              "<Figure size 432x288 with 0 Axes>"
            ]
          },
          "metadata": {
            "tags": []
          }
        },
        {
          "output_type": "stream",
          "text": [
            "Party to 24\n",
            "Day 5 >>> \u001b[92mSusceptible\u001b[0m: 186 | \u001b[93mInfected\u001b[0m: 66 | \u001b[97mRemoved\u001b[0m: 0 | \u001b[93misolated\u001b[0m: 1 | \u001b[96mHospitalized\u001b[0m: 2\n"
          ],
          "name": "stdout"
        },
        {
          "output_type": "display_data",
          "data": {
            "text/plain": [
              "<Figure size 432x288 with 0 Axes>"
            ]
          },
          "metadata": {
            "tags": []
          }
        },
        {
          "output_type": "stream",
          "text": [
            "Party to 36\n",
            "Day 6 >>> \u001b[92mSusceptible\u001b[0m: 161 | \u001b[93mInfected\u001b[0m: 91 | \u001b[97mRemoved\u001b[0m: 0 | \u001b[93misolated\u001b[0m: 4 | \u001b[96mHospitalized\u001b[0m: 6\n"
          ],
          "name": "stdout"
        },
        {
          "output_type": "display_data",
          "data": {
            "text/plain": [
              "<Figure size 432x288 with 0 Axes>"
            ]
          },
          "metadata": {
            "tags": []
          }
        },
        {
          "output_type": "stream",
          "text": [
            "Party to 25\n",
            "Day 7 >>> \u001b[92mSusceptible\u001b[0m: 138 | \u001b[93mInfected\u001b[0m: 114 | \u001b[97mRemoved\u001b[0m: 0 | \u001b[93misolated\u001b[0m: 5 | \u001b[96mHospitalized\u001b[0m: 7\n"
          ],
          "name": "stdout"
        },
        {
          "output_type": "display_data",
          "data": {
            "text/plain": [
              "<Figure size 432x288 with 0 Axes>"
            ]
          },
          "metadata": {
            "tags": []
          }
        },
        {
          "output_type": "stream",
          "text": [
            "\u001b[92mCLOSURE\u001b[0m\n",
            "Party to 9\n",
            "Day 8 >>> \u001b[92mSusceptible\u001b[0m: 124 | \u001b[93mInfected\u001b[0m: 128 | \u001b[97mRemoved\u001b[0m: 0 | \u001b[93misolated\u001b[0m: 6 | \u001b[96mHospitalized\u001b[0m: 7\n"
          ],
          "name": "stdout"
        },
        {
          "output_type": "display_data",
          "data": {
            "text/plain": [
              "<Figure size 432x288 with 0 Axes>"
            ]
          },
          "metadata": {
            "tags": []
          }
        },
        {
          "output_type": "stream",
          "text": [
            "Party to 9\n",
            "Day 9 >>> \u001b[92mSusceptible\u001b[0m: 108 | \u001b[93mInfected\u001b[0m: 144 | \u001b[97mRemoved\u001b[0m: 0 | \u001b[93misolated\u001b[0m: 12 | \u001b[96mHospitalized\u001b[0m: 16\n"
          ],
          "name": "stdout"
        },
        {
          "output_type": "display_data",
          "data": {
            "text/plain": [
              "<Figure size 432x288 with 0 Axes>"
            ]
          },
          "metadata": {
            "tags": []
          }
        },
        {
          "output_type": "stream",
          "text": [
            "Party to 24\n",
            "Day 10 >>> \u001b[92mSusceptible\u001b[0m: 95 | \u001b[93mInfected\u001b[0m: 157 | \u001b[97mRemoved\u001b[0m: 0 | \u001b[93misolated\u001b[0m: 28 | \u001b[96mHospitalized\u001b[0m: 32\n"
          ],
          "name": "stdout"
        },
        {
          "output_type": "display_data",
          "data": {
            "text/plain": [
              "<Figure size 432x288 with 0 Axes>"
            ]
          },
          "metadata": {
            "tags": []
          }
        },
        {
          "output_type": "stream",
          "text": [
            "Party to 40\n",
            "Day 11 >>> \u001b[92mSusceptible\u001b[0m: 91 | \u001b[93mInfected\u001b[0m: 161 | \u001b[97mRemoved\u001b[0m: 0 | \u001b[93misolated\u001b[0m: 50 | \u001b[96mHospitalized\u001b[0m: 24\n"
          ],
          "name": "stdout"
        },
        {
          "output_type": "display_data",
          "data": {
            "text/plain": [
              "<Figure size 432x288 with 0 Axes>"
            ]
          },
          "metadata": {
            "tags": []
          }
        },
        {
          "output_type": "stream",
          "text": [
            "Party to 9\n",
            "Day 12 >>> \u001b[92mSusceptible\u001b[0m: 87 | \u001b[93mInfected\u001b[0m: 165 | \u001b[97mRemoved\u001b[0m: 0 | \u001b[93misolated\u001b[0m: 69 | \u001b[96mHospitalized\u001b[0m: 25\n"
          ],
          "name": "stdout"
        },
        {
          "output_type": "display_data",
          "data": {
            "text/plain": [
              "<Figure size 432x288 with 0 Axes>"
            ]
          },
          "metadata": {
            "tags": []
          }
        },
        {
          "output_type": "stream",
          "text": [
            "Party to 9\n",
            "Day 13 >>> \u001b[92mSusceptible\u001b[0m: 86 | \u001b[93mInfected\u001b[0m: 166 | \u001b[97mRemoved\u001b[0m: 0 | \u001b[93misolated\u001b[0m: 87 | \u001b[96mHospitalized\u001b[0m: 25\n"
          ],
          "name": "stdout"
        },
        {
          "output_type": "display_data",
          "data": {
            "text/plain": [
              "<Figure size 432x288 with 0 Axes>"
            ]
          },
          "metadata": {
            "tags": []
          }
        },
        {
          "output_type": "stream",
          "text": [
            "Party to 62\n",
            "Day 14 >>> \u001b[92mSusceptible\u001b[0m: 85 | \u001b[93mInfected\u001b[0m: 155 | \u001b[97mRemoved\u001b[0m: 12 | \u001b[93misolated\u001b[0m: 103 | \u001b[96mHospitalized\u001b[0m: 25\n"
          ],
          "name": "stdout"
        },
        {
          "output_type": "display_data",
          "data": {
            "text/plain": [
              "<Figure size 432x288 with 0 Axes>"
            ]
          },
          "metadata": {
            "tags": []
          }
        },
        {
          "output_type": "stream",
          "text": [
            "Party to 9\n",
            "Day 15 >>> \u001b[92mSusceptible\u001b[0m: 83 | \u001b[93mInfected\u001b[0m: 155 | \u001b[97mRemoved\u001b[0m: 14 | \u001b[93misolated\u001b[0m: 107 | \u001b[96mHospitalized\u001b[0m: 24\n"
          ],
          "name": "stdout"
        },
        {
          "output_type": "display_data",
          "data": {
            "text/plain": [
              "<Figure size 432x288 with 0 Axes>"
            ]
          },
          "metadata": {
            "tags": []
          }
        },
        {
          "output_type": "stream",
          "text": [
            "Party to 9\n",
            "Day 16 >>> \u001b[92mSusceptible\u001b[0m: 81 | \u001b[93mInfected\u001b[0m: 156 | \u001b[97mRemoved\u001b[0m: 15 | \u001b[93misolated\u001b[0m: 108 | \u001b[96mHospitalized\u001b[0m: 24\n"
          ],
          "name": "stdout"
        },
        {
          "output_type": "display_data",
          "data": {
            "text/plain": [
              "<Figure size 432x288 with 0 Axes>"
            ]
          },
          "metadata": {
            "tags": []
          }
        },
        {
          "output_type": "stream",
          "text": [
            "Party to 62\n",
            "Day 17 >>> \u001b[92mSusceptible\u001b[0m: 78 | \u001b[93mInfected\u001b[0m: 138 | \u001b[97mRemoved\u001b[0m: 36 | \u001b[93misolated\u001b[0m: 108 | \u001b[96mHospitalized\u001b[0m: 25\n"
          ],
          "name": "stdout"
        },
        {
          "output_type": "display_data",
          "data": {
            "text/plain": [
              "<Figure size 432x288 with 0 Axes>"
            ]
          },
          "metadata": {
            "tags": []
          }
        },
        {
          "output_type": "stream",
          "text": [
            "Party to 24\n",
            "Day 18 >>> \u001b[92mSusceptible\u001b[0m: 77 | \u001b[93mInfected\u001b[0m: 109 | \u001b[97mRemoved\u001b[0m: 66 | \u001b[93misolated\u001b[0m: 100 | \u001b[96mHospitalized\u001b[0m: 19\n"
          ],
          "name": "stdout"
        },
        {
          "output_type": "display_data",
          "data": {
            "text/plain": [
              "<Figure size 432x288 with 0 Axes>"
            ]
          },
          "metadata": {
            "tags": []
          }
        },
        {
          "output_type": "stream",
          "text": [
            "Party to 25\n",
            "Day 19 >>> \u001b[92mSusceptible\u001b[0m: 77 | \u001b[93mInfected\u001b[0m: 84 | \u001b[97mRemoved\u001b[0m: 91 | \u001b[93misolated\u001b[0m: 85 | \u001b[96mHospitalized\u001b[0m: 12\n"
          ],
          "name": "stdout"
        },
        {
          "output_type": "display_data",
          "data": {
            "text/plain": [
              "<Figure size 432x288 with 0 Axes>"
            ]
          },
          "metadata": {
            "tags": []
          }
        },
        {
          "output_type": "stream",
          "text": [
            "Party to 62\n",
            "Day 20 >>> \u001b[92mSusceptible\u001b[0m: 75 | \u001b[93mInfected\u001b[0m: 63 | \u001b[97mRemoved\u001b[0m: 114 | \u001b[93misolated\u001b[0m: 68 | \u001b[96mHospitalized\u001b[0m: 14\n"
          ],
          "name": "stdout"
        },
        {
          "output_type": "display_data",
          "data": {
            "text/plain": [
              "<Figure size 432x288 with 0 Axes>"
            ]
          },
          "metadata": {
            "tags": []
          }
        },
        {
          "output_type": "stream",
          "text": [
            "Party to 45\n",
            "Day 21 >>> \u001b[92mSusceptible\u001b[0m: 74 | \u001b[93mInfected\u001b[0m: 50 | \u001b[97mRemoved\u001b[0m: 128 | \u001b[93misolated\u001b[0m: 42 | \u001b[96mHospitalized\u001b[0m: 14\n"
          ],
          "name": "stdout"
        },
        {
          "output_type": "display_data",
          "data": {
            "text/plain": [
              "<Figure size 432x288 with 0 Axes>"
            ]
          },
          "metadata": {
            "tags": []
          }
        },
        {
          "output_type": "stream",
          "text": [
            "Party to 9\n",
            "Day 22 >>> \u001b[92mSusceptible\u001b[0m: 74 | \u001b[93mInfected\u001b[0m: 34 | \u001b[97mRemoved\u001b[0m: 144 | \u001b[93misolated\u001b[0m: 28 | \u001b[96mHospitalized\u001b[0m: 14\n"
          ],
          "name": "stdout"
        },
        {
          "output_type": "display_data",
          "data": {
            "text/plain": [
              "<Figure size 432x288 with 0 Axes>"
            ]
          },
          "metadata": {
            "tags": []
          }
        },
        {
          "output_type": "stream",
          "text": [
            "\u001b[93mCLOSURE DISBAN\u001b[0m\n",
            "Party to 24\n",
            "Day 23 >>> \u001b[92mSusceptible\u001b[0m: 74 | \u001b[93mInfected\u001b[0m: 21 | \u001b[97mRemoved\u001b[0m: 157 | \u001b[93misolated\u001b[0m: 15 | \u001b[96mHospitalized\u001b[0m: 13\n"
          ],
          "name": "stdout"
        },
        {
          "output_type": "display_data",
          "data": {
            "text/plain": [
              "<Figure size 432x288 with 0 Axes>"
            ]
          },
          "metadata": {
            "tags": []
          }
        },
        {
          "output_type": "stream",
          "text": [
            "Party to 24\n",
            "Day 24 >>> \u001b[92mSusceptible\u001b[0m: 74 | \u001b[93mInfected\u001b[0m: 17 | \u001b[97mRemoved\u001b[0m: 161 | \u001b[93misolated\u001b[0m: 8 | \u001b[96mHospitalized\u001b[0m: 9\n"
          ],
          "name": "stdout"
        },
        {
          "output_type": "display_data",
          "data": {
            "text/plain": [
              "<Figure size 432x288 with 0 Axes>"
            ]
          },
          "metadata": {
            "tags": []
          }
        },
        {
          "output_type": "stream",
          "text": [
            "Party to 9\n",
            "Day 25 >>> \u001b[92mSusceptible\u001b[0m: 74 | \u001b[93mInfected\u001b[0m: 13 | \u001b[97mRemoved\u001b[0m: 165 | \u001b[93misolated\u001b[0m: 8 | \u001b[96mHospitalized\u001b[0m: 9\n"
          ],
          "name": "stdout"
        },
        {
          "output_type": "display_data",
          "data": {
            "text/plain": [
              "<Figure size 432x288 with 0 Axes>"
            ]
          },
          "metadata": {
            "tags": []
          }
        },
        {
          "output_type": "stream",
          "text": [
            "Party to 36\n",
            "Day 26 >>> \u001b[92mSusceptible\u001b[0m: 73 | \u001b[93mInfected\u001b[0m: 13 | \u001b[97mRemoved\u001b[0m: 166 | \u001b[93misolated\u001b[0m: 6 | \u001b[96mHospitalized\u001b[0m: 7\n"
          ],
          "name": "stdout"
        },
        {
          "output_type": "display_data",
          "data": {
            "text/plain": [
              "<Figure size 432x288 with 0 Axes>"
            ]
          },
          "metadata": {
            "tags": []
          }
        },
        {
          "output_type": "stream",
          "text": [
            "Party to 9\n",
            "Day 27 >>> \u001b[92mSusceptible\u001b[0m: 73 | \u001b[93mInfected\u001b[0m: 12 | \u001b[97mRemoved\u001b[0m: 167 | \u001b[93misolated\u001b[0m: 5 | \u001b[96mHospitalized\u001b[0m: 8\n"
          ],
          "name": "stdout"
        },
        {
          "output_type": "display_data",
          "data": {
            "text/plain": [
              "<Figure size 432x288 with 0 Axes>"
            ]
          },
          "metadata": {
            "tags": []
          }
        },
        {
          "output_type": "stream",
          "text": [
            "Party to 9\n",
            "Day 28 >>> \u001b[92mSusceptible\u001b[0m: 73 | \u001b[93mInfected\u001b[0m: 10 | \u001b[97mRemoved\u001b[0m: 169 | \u001b[93misolated\u001b[0m: 5 | \u001b[96mHospitalized\u001b[0m: 6\n"
          ],
          "name": "stdout"
        },
        {
          "output_type": "display_data",
          "data": {
            "text/plain": [
              "<Figure size 432x288 with 0 Axes>"
            ]
          },
          "metadata": {
            "tags": []
          }
        },
        {
          "output_type": "stream",
          "text": [
            "Party to 9\n",
            "Day 29 >>> \u001b[92mSusceptible\u001b[0m: 73 | \u001b[93mInfected\u001b[0m: 8 | \u001b[97mRemoved\u001b[0m: 171 | \u001b[93misolated\u001b[0m: 4 | \u001b[96mHospitalized\u001b[0m: 5\n"
          ],
          "name": "stdout"
        },
        {
          "output_type": "display_data",
          "data": {
            "text/plain": [
              "<Figure size 432x288 with 0 Axes>"
            ]
          },
          "metadata": {
            "tags": []
          }
        },
        {
          "output_type": "stream",
          "text": [
            "Party to 58\n",
            "Day 30 >>> \u001b[92mSusceptible\u001b[0m: 73 | \u001b[93mInfected\u001b[0m: 5 | \u001b[97mRemoved\u001b[0m: 174 | \u001b[93misolated\u001b[0m: 5 | \u001b[96mHospitalized\u001b[0m: 3\n"
          ],
          "name": "stdout"
        },
        {
          "output_type": "display_data",
          "data": {
            "text/plain": [
              "<Figure size 432x288 with 0 Axes>"
            ]
          },
          "metadata": {
            "tags": []
          }
        },
        {
          "output_type": "stream",
          "text": [
            "Party to 36\n",
            "Day 31 >>> \u001b[92mSusceptible\u001b[0m: 73 | \u001b[93mInfected\u001b[0m: 4 | \u001b[97mRemoved\u001b[0m: 175 | \u001b[93misolated\u001b[0m: 4 | \u001b[96mHospitalized\u001b[0m: 1\n"
          ],
          "name": "stdout"
        },
        {
          "output_type": "display_data",
          "data": {
            "text/plain": [
              "<Figure size 432x288 with 0 Axes>"
            ]
          },
          "metadata": {
            "tags": []
          }
        },
        {
          "output_type": "stream",
          "text": [
            "Party to 9\n",
            "Day 32 >>> \u001b[92mSusceptible\u001b[0m: 73 | \u001b[93mInfected\u001b[0m: 4 | \u001b[97mRemoved\u001b[0m: 175 | \u001b[93misolated\u001b[0m: 3 | \u001b[96mHospitalized\u001b[0m: 1\n"
          ],
          "name": "stdout"
        },
        {
          "output_type": "display_data",
          "data": {
            "text/plain": [
              "<Figure size 432x288 with 0 Axes>"
            ]
          },
          "metadata": {
            "tags": []
          }
        },
        {
          "output_type": "stream",
          "text": [
            "Party to 24\n",
            "Day 33 >>> \u001b[92mSusceptible\u001b[0m: 73 | \u001b[93mInfected\u001b[0m: 2 | \u001b[97mRemoved\u001b[0m: 177 | \u001b[93misolated\u001b[0m: 3 | \u001b[96mHospitalized\u001b[0m: 1\n"
          ],
          "name": "stdout"
        },
        {
          "output_type": "display_data",
          "data": {
            "text/plain": [
              "<Figure size 432x288 with 0 Axes>"
            ]
          },
          "metadata": {
            "tags": []
          }
        },
        {
          "output_type": "stream",
          "text": [
            "Party to 24\n",
            "Day 34 >>> \u001b[92mSusceptible\u001b[0m: 73 | \u001b[93mInfected\u001b[0m: 1 | \u001b[97mRemoved\u001b[0m: 178 | \u001b[93misolated\u001b[0m: 2 | \u001b[96mHospitalized\u001b[0m: 0\n"
          ],
          "name": "stdout"
        },
        {
          "output_type": "display_data",
          "data": {
            "text/plain": [
              "<Figure size 432x288 with 0 Axes>"
            ]
          },
          "metadata": {
            "tags": []
          }
        },
        {
          "output_type": "stream",
          "text": [
            "Party to 36\n",
            "Day 35 >>> \u001b[92mSusceptible\u001b[0m: 73 | \u001b[93mInfected\u001b[0m: 1 | \u001b[97mRemoved\u001b[0m: 178 | \u001b[93misolated\u001b[0m: 1 | \u001b[96mHospitalized\u001b[0m: 0\n"
          ],
          "name": "stdout"
        },
        {
          "output_type": "display_data",
          "data": {
            "text/plain": [
              "<Figure size 432x288 with 0 Axes>"
            ]
          },
          "metadata": {
            "tags": []
          }
        },
        {
          "output_type": "stream",
          "text": [
            "Party to 45\n",
            "Day 36 >>> \u001b[92mSusceptible\u001b[0m: 73 | \u001b[93mInfected\u001b[0m: 1 | \u001b[97mRemoved\u001b[0m: 178 | \u001b[93misolated\u001b[0m: 1 | \u001b[96mHospitalized\u001b[0m: 0\n"
          ],
          "name": "stdout"
        },
        {
          "output_type": "display_data",
          "data": {
            "text/plain": [
              "<Figure size 432x288 with 0 Axes>"
            ]
          },
          "metadata": {
            "tags": []
          }
        },
        {
          "output_type": "stream",
          "text": [
            "Party to 62\n",
            "Day 37 >>> \u001b[92mSusceptible\u001b[0m: 73 | \u001b[93mInfected\u001b[0m: 1 | \u001b[97mRemoved\u001b[0m: 178 | \u001b[93misolated\u001b[0m: 1 | \u001b[96mHospitalized\u001b[0m: 0\n"
          ],
          "name": "stdout"
        },
        {
          "output_type": "display_data",
          "data": {
            "text/plain": [
              "<Figure size 432x288 with 0 Axes>"
            ]
          },
          "metadata": {
            "tags": []
          }
        },
        {
          "output_type": "stream",
          "text": [
            "Party to 24\n",
            "Day 38 >>> \u001b[92mSusceptible\u001b[0m: 73 | \u001b[93mInfected\u001b[0m: 1 | \u001b[97mRemoved\u001b[0m: 178 | \u001b[93misolated\u001b[0m: 1 | \u001b[96mHospitalized\u001b[0m: 0\n"
          ],
          "name": "stdout"
        },
        {
          "output_type": "display_data",
          "data": {
            "text/plain": [
              "<Figure size 432x288 with 0 Axes>"
            ]
          },
          "metadata": {
            "tags": []
          }
        },
        {
          "output_type": "stream",
          "text": [
            "Party to 25\n",
            "Day 39 >>> \u001b[92mSusceptible\u001b[0m: 73 | \u001b[93mInfected\u001b[0m: 0 | \u001b[97mRemoved\u001b[0m: 179 | \u001b[93misolated\u001b[0m: 1 | \u001b[96mHospitalized\u001b[0m: 0\n"
          ],
          "name": "stdout"
        },
        {
          "output_type": "display_data",
          "data": {
            "text/plain": [
              "<Figure size 432x288 with 0 Axes>"
            ]
          },
          "metadata": {
            "tags": []
          }
        },
        {
          "output_type": "display_data",
          "data": {
            "image/png": "[encoded data removed]",
            "text/plain": [
              "<Figure size 1296x1800 with 7 Axes>"
            ]
          },
          "metadata": {
            "tags": []
          }
        }
      ]
    },
    {
      "cell_type": "code",
      "metadata": {
        "id": "3FyAmWjmjsfE"
      },
      "source": [
        ""
      ],
      "execution_count": null,
      "outputs": []
    }
  ]
}